{
 "cells": [
  {
   "cell_type": "code",
   "execution_count": 1,
   "id": "1aff5103-c92a-45b0-93bb-f5b034de45c4",
   "metadata": {},
   "outputs": [],
   "source": [
    "from time import sleep, time\n",
    "import os\n",
    "import json\n",
    "from dotenv import load_dotenv\n",
    "import numpy as np\n",
    "import matplotlib.pyplot as plt\n",
    "from qiskit.circuit.library import EfficientSU2\n",
    "from qiskit.transpiler.preset_passmanagers import generate_preset_pass_manager\n",
    "from qiskit_ibm_runtime import QiskitRuntimeService\n",
    "from qiskit_transpiler_service.transpiler_service import TranspilerService"
   ]
  },
  {
   "cell_type": "code",
   "execution_count": 2,
   "id": "42719a33-12b1-49cd-b2ad-1cc0c7fdafdd",
   "metadata": {},
   "outputs": [],
   "source": [
    "load_dotenv()\n",
    "\n",
    "QiskitRuntimeService.save_account(\n",
    "    channel=\"ibm_quantum\",\n",
    "    token=os.getenv(\"IBM_TOKEN\"),\n",
    "    set_as_default=True,\n",
    "    overwrite=True,\n",
    ")\n",
    "\n",
    "service = QiskitRuntimeService()"
   ]
  },
  {
   "cell_type": "code",
   "execution_count": 3,
   "id": "be2fccf6-252e-4f0e-8607-20c7aa18d669",
   "metadata": {},
   "outputs": [],
   "source": [
    "class Colors:\n",
    "    GREEN = '\\033[92m'\n",
    "    BLUE = '\\033[94m'\n",
    "    ENDC = '\\033[0m'"
   ]
  },
  {
   "cell_type": "code",
   "execution_count": 4,
   "id": "64dd32bf-c1da-4bfd-922b-3edd60e2bc7b",
   "metadata": {},
   "outputs": [],
   "source": [
    "def test(num_qubits:int, local, with_ai, without_ai, results_callback:dict):\n",
    "    qc = EfficientSU2(num_qubits, entanglement=\"circular\", reps=1).decompose()\n",
    "\n",
    "    local_result = local.run(qc)\n",
    "    local_cnots = local_result.num_nonlocal_gates()\n",
    "    print(f\"{Colors.BLUE}Local total CNOTs: {local_cnots}{Colors.ENDC}\")\n",
    "\n",
    "    with_ai_result = with_ai.run(qc)\n",
    "    with_ai_cnots = with_ai_result.num_nonlocal_gates()\n",
    "    print(f\"{Colors.BLUE}With AI total CNOTs: {with_ai_cnots}{Colors.ENDC}\")\n",
    "\n",
    "    without_ai_result = without_ai.run(qc)\n",
    "    without_ai_cnots = without_ai_result.num_nonlocal_gates()\n",
    "    print(f\"{Colors.BLUE}Without AI total CNOTs: {without_ai_cnots}{Colors.ENDC}\")\n",
    "\n",
    "    results_callback['cnots_local'].append(local_cnots)\n",
    "    results_callback['cnots_ai'].append(with_ai_cnots)\n",
    "    results_callback['cnots_no_ai'].append(without_ai_cnots)"
   ]
  },
  {
   "cell_type": "code",
   "execution_count": 5,
   "id": "13b3d23d-d4ad-4765-9a95-869ac47ec46a",
   "metadata": {},
   "outputs": [],
   "source": [
    "def test_batch(num_qubits:list[int], backend_name:str, local, with_ai, without_ai, results_callback:dict):\n",
    "    print(f'{Colors.GREEN}Test using: {backend_name} backend{Colors.ENDC}')\n",
    "    print(f'{Colors.GREEN}qubits: {num_qubits}{Colors.ENDC}')\n",
    "    \n",
    "    for nq in num_qubits:\n",
    "        print(f'{Colors.GREEN}--------------------{Colors.ENDC}')\n",
    "        print(f'{Colors.GREEN}testing {nq} qubits{Colors.ENDC}')\n",
    "        test(nq, local, with_ai, without_ai, results_callback)\n",
    "\n",
    "        print(f'{Colors.GREEN}sleeping for 1s{Colors.ENDC}')\n",
    "        sleep(1)"
   ]
  },
  {
   "cell_type": "code",
   "execution_count": 6,
   "id": "842abb18-7a83-4bbe-aca9-d951c5b976fd",
   "metadata": {},
   "outputs": [],
   "source": [
    "def get_transpilers(backend):\n",
    "    backend_name = backend.name\n",
    "    \n",
    "    local = generate_preset_pass_manager(backend=backend, optimization_level=3)\n",
    "    transpiler_ai = TranspilerService(optimization_level=3, ai=\"true\", backend_name=backend_name)\n",
    "    transpiler_no_ai = TranspilerService(optimization_level=3, ai=\"false\", backend_name=backend_name)\n",
    "\n",
    "    return local, transpiler_ai, transpiler_no_ai"
   ]
  },
  {
   "cell_type": "code",
   "execution_count": 7,
   "id": "e89bc0c7-f30e-4057-91f8-b93fdce49ed0",
   "metadata": {},
   "outputs": [],
   "source": [
    "def save_results(backend_name, results, num_qubits):\n",
    "    filename = f\"{int(time())} - {backend_name} - {num_qubits[0]}.{num_qubits[-1]}q.json\"\n",
    "    print(f'{Colors.GREEN}saving data at: {filename}{Colors.ENDC}')\n",
    "    \n",
    "    results_copy = results.copy()\n",
    "    results_copy['backend'] = backend_name\n",
    "    results_copy['num_qubits'] = num_qubits\n",
    "    \n",
    "    \n",
    "    with open(filename, 'w', encoding='utf-8') as file:\n",
    "        json.dump(results_copy, file, ensure_ascii=False, indent=4)"
   ]
  },
  {
   "cell_type": "code",
   "execution_count": 8,
   "id": "556aaec4-1619-4405-b6ad-2e10943ad208",
   "metadata": {},
   "outputs": [],
   "source": [
    "def plot_results(results, num_qubits, backend_name):\n",
    "    plt.title(f'{num_qubits[0]} to {num_qubits[-1]} qubits - {backend_name} backend')\n",
    "\n",
    "    plt.plot(num_qubits, results['cnots_ai'])\n",
    "    plt.plot(num_qubits, results['cnots_no_ai'])\n",
    "    plt.plot(num_qubits, results['cnots_local'])\n",
    "    \n",
    "    plt.xlabel(\"Number of qubits\")\n",
    "    plt.ylabel(\"CNOT count\")\n",
    "    plt.legend([\"AI\", \"without AI\", \"Local\"])\n",
    "    \n",
    "    plt.savefig(f'{backend_name}_{num_qubits[0]}_to_{num_qubits[-1]}_qubits_plot.png')\n",
    "    \n",
    "    plt.show()"
   ]
  },
  {
   "cell_type": "code",
   "execution_count": null,
   "id": "c1014aa8-851e-459f-9307-4b855c42fc1a",
   "metadata": {},
   "outputs": [],
   "source": [
    "backend_name = \"ibm_sherbrooke\"\n",
    "backend = service.backend(backend_name)\n",
    "local, transpiler_ai, transpiler_no_ai = get_transpilers(backend)\n",
    "sherbrooke_results = {\n",
    "    'cnots_local': [],\n",
    "    'cnots_ai': [],\n",
    "    'cnots_no_ai': []\n",
    "}"
   ]
  },
  {
   "cell_type": "code",
   "execution_count": null,
   "id": "e9160297-db6e-4cb4-9124-4b69c0af61f4",
   "metadata": {},
   "outputs": [],
   "source": [
    "num_qubits = list(range(2, 81))"
   ]
  },
  {
   "cell_type": "code",
   "execution_count": null,
   "id": "75967b06-ccab-4109-a5d1-5b860e1ba4e7",
   "metadata": {},
   "outputs": [],
   "source": [
    "test_batch(num_qubits, backend_name, local, transpiler_ai, transpiler_no_ai, sherbrooke_results)"
   ]
  },
  {
   "cell_type": "code",
   "execution_count": null,
   "id": "a013965b-a90e-462e-901a-79030d22184c",
   "metadata": {},
   "outputs": [],
   "source": [
    "save_results(backend_name, sherbrooke_results, num_qubits)"
   ]
  },
  {
   "cell_type": "code",
   "execution_count": null,
   "id": "1debf788-9ef5-42ff-accc-07112f52e587",
   "metadata": {},
   "outputs": [],
   "source": [
    "plot_results(sherbrooke_results, num_qubits, backend_name)"
   ]
  },
  {
   "cell_type": "code",
   "execution_count": 9,
   "id": "ab712932-041f-401d-8883-e017950b7b10",
   "metadata": {},
   "outputs": [],
   "source": [
    "backend_name = \"ibm_brisbane\"\n",
    "backend = service.backend(backend_name)\n",
    "local, transpiler_ai, transpiler_no_ai = get_transpilers(backend)\n",
    "brisbane_results = {\n",
    "    'cnots_local': [],\n",
    "    'cnots_ai': [],\n",
    "    'cnots_no_ai': []\n",
    "}"
   ]
  },
  {
   "cell_type": "code",
   "execution_count": 17,
   "id": "b453dd0e-8474-4e7d-9e9e-76552e60e7ef",
   "metadata": {},
   "outputs": [],
   "source": [
    "num_qubits = list(range(2, 81))"
   ]
  },
  {
   "cell_type": "code",
   "execution_count": 15,
   "id": "fcbc097b-fb23-4169-8e9d-dfdd015b7f3d",
   "metadata": {},
   "outputs": [
    {
     "name": "stdout",
     "output_type": "stream",
     "text": [
      "\u001b[92mTest using: ibm_brisbane backend\u001b[0m\n",
      "\u001b[92mqubits: [44, 45, 46, 47, 48, 49, 50, 51, 52, 53, 54, 55, 56, 57, 58, 59, 60, 61, 62, 63, 64, 65, 66, 67, 68, 69, 70, 71, 72, 73, 74, 75, 76, 77, 78, 79, 80]\u001b[0m\n",
      "\u001b[92m--------------------\u001b[0m\n",
      "\u001b[92mtesting 44 qubits\u001b[0m\n"
     ]
    },
    {
     "name": "stderr",
     "output_type": "stream",
     "text": [
      "INFO:qiskit_transpiler_service.transpiler_service:Requesting transpile to the service\n"
     ]
    },
    {
     "name": "stdout",
     "output_type": "stream",
     "text": [
      "\u001b[94mLocal total CNOTs: 44\u001b[0m\n"
     ]
    },
    {
     "name": "stderr",
     "output_type": "stream",
     "text": [
      "INFO:qiskit_transpiler_service.transpiler_service:Qiskit transpiler service returned a result\n",
      "INFO:qiskit_transpiler_service.transpiler_service:Requesting transpile to the service\n"
     ]
    },
    {
     "name": "stdout",
     "output_type": "stream",
     "text": [
      "\u001b[94mWith AI total CNOTs: 44\u001b[0m\n"
     ]
    },
    {
     "name": "stderr",
     "output_type": "stream",
     "text": [
      "INFO:qiskit_transpiler_service.transpiler_service:Qiskit transpiler service returned a result\n"
     ]
    },
    {
     "name": "stdout",
     "output_type": "stream",
     "text": [
      "\u001b[94mWithout AI total CNOTs: 44\u001b[0m\n",
      "\u001b[92msleeping for 1s\u001b[0m\n",
      "\u001b[92m--------------------\u001b[0m\n",
      "\u001b[92mtesting 45 qubits\u001b[0m\n"
     ]
    },
    {
     "name": "stderr",
     "output_type": "stream",
     "text": [
      "INFO:qiskit_transpiler_service.transpiler_service:Requesting transpile to the service\n"
     ]
    },
    {
     "name": "stdout",
     "output_type": "stream",
     "text": [
      "\u001b[94mLocal total CNOTs: 234\u001b[0m\n"
     ]
    },
    {
     "name": "stderr",
     "output_type": "stream",
     "text": [
      "INFO:qiskit_transpiler_service.transpiler_service:Qiskit transpiler service returned a result\n",
      "INFO:qiskit_transpiler_service.transpiler_service:Requesting transpile to the service\n"
     ]
    },
    {
     "name": "stdout",
     "output_type": "stream",
     "text": [
      "\u001b[94mWith AI total CNOTs: 48\u001b[0m\n"
     ]
    },
    {
     "name": "stderr",
     "output_type": "stream",
     "text": [
      "INFO:qiskit_transpiler_service.transpiler_service:Qiskit transpiler service returned a result\n"
     ]
    },
    {
     "name": "stdout",
     "output_type": "stream",
     "text": [
      "\u001b[94mWithout AI total CNOTs: 225\u001b[0m\n",
      "\u001b[92msleeping for 1s\u001b[0m\n",
      "\u001b[92m--------------------\u001b[0m\n",
      "\u001b[92mtesting 46 qubits\u001b[0m\n"
     ]
    },
    {
     "name": "stderr",
     "output_type": "stream",
     "text": [
      "INFO:qiskit_transpiler_service.transpiler_service:Requesting transpile to the service\n"
     ]
    },
    {
     "name": "stdout",
     "output_type": "stream",
     "text": [
      "\u001b[94mLocal total CNOTs: 229\u001b[0m\n"
     ]
    },
    {
     "name": "stderr",
     "output_type": "stream",
     "text": [
      "INFO:qiskit_transpiler_service.transpiler_service:Qiskit transpiler service returned a result\n",
      "INFO:qiskit_transpiler_service.transpiler_service:Requesting transpile to the service\n"
     ]
    },
    {
     "name": "stdout",
     "output_type": "stream",
     "text": [
      "\u001b[94mWith AI total CNOTs: 52\u001b[0m\n"
     ]
    },
    {
     "name": "stderr",
     "output_type": "stream",
     "text": [
      "INFO:qiskit_transpiler_service.transpiler_service:Qiskit transpiler service returned a result\n"
     ]
    },
    {
     "name": "stdout",
     "output_type": "stream",
     "text": [
      "\u001b[94mWithout AI total CNOTs: 241\u001b[0m\n",
      "\u001b[92msleeping for 1s\u001b[0m\n",
      "\u001b[92m--------------------\u001b[0m\n",
      "\u001b[92mtesting 47 qubits\u001b[0m\n"
     ]
    },
    {
     "name": "stderr",
     "output_type": "stream",
     "text": [
      "INFO:qiskit_transpiler_service.transpiler_service:Requesting transpile to the service\n"
     ]
    },
    {
     "name": "stdout",
     "output_type": "stream",
     "text": [
      "\u001b[94mLocal total CNOTs: 248\u001b[0m\n"
     ]
    },
    {
     "name": "stderr",
     "output_type": "stream",
     "text": [
      "INFO:qiskit_transpiler_service.transpiler_service:Qiskit transpiler service returned a result\n",
      "INFO:qiskit_transpiler_service.transpiler_service:Requesting transpile to the service\n"
     ]
    },
    {
     "name": "stdout",
     "output_type": "stream",
     "text": [
      "\u001b[94mWith AI total CNOTs: 56\u001b[0m\n"
     ]
    },
    {
     "name": "stderr",
     "output_type": "stream",
     "text": [
      "INFO:qiskit_transpiler_service.transpiler_service:Qiskit transpiler service returned a result\n"
     ]
    },
    {
     "name": "stdout",
     "output_type": "stream",
     "text": [
      "\u001b[94mWithout AI total CNOTs: 260\u001b[0m\n",
      "\u001b[92msleeping for 1s\u001b[0m\n",
      "\u001b[92m--------------------\u001b[0m\n",
      "\u001b[92mtesting 48 qubits\u001b[0m\n"
     ]
    },
    {
     "name": "stderr",
     "output_type": "stream",
     "text": [
      "INFO:qiskit_transpiler_service.transpiler_service:Requesting transpile to the service\n"
     ]
    },
    {
     "name": "stdout",
     "output_type": "stream",
     "text": [
      "\u001b[94mLocal total CNOTs: 48\u001b[0m\n"
     ]
    },
    {
     "name": "stderr",
     "output_type": "stream",
     "text": [
      "INFO:qiskit_transpiler_service.transpiler_service:Qiskit transpiler service returned a result\n",
      "INFO:qiskit_transpiler_service.transpiler_service:Requesting transpile to the service\n"
     ]
    },
    {
     "name": "stdout",
     "output_type": "stream",
     "text": [
      "\u001b[94mWith AI total CNOTs: 48\u001b[0m\n"
     ]
    },
    {
     "name": "stderr",
     "output_type": "stream",
     "text": [
      "INFO:qiskit_transpiler_service.transpiler_service:Qiskit transpiler service returned a result\n"
     ]
    },
    {
     "name": "stdout",
     "output_type": "stream",
     "text": [
      "\u001b[94mWithout AI total CNOTs: 48\u001b[0m\n",
      "\u001b[92msleeping for 1s\u001b[0m\n",
      "\u001b[92m--------------------\u001b[0m\n",
      "\u001b[92mtesting 49 qubits\u001b[0m\n"
     ]
    },
    {
     "name": "stderr",
     "output_type": "stream",
     "text": [
      "INFO:qiskit_transpiler_service.transpiler_service:Requesting transpile to the service\n"
     ]
    },
    {
     "name": "stdout",
     "output_type": "stream",
     "text": [
      "\u001b[94mLocal total CNOTs: 277\u001b[0m\n"
     ]
    },
    {
     "name": "stderr",
     "output_type": "stream",
     "text": [
      "INFO:qiskit_transpiler_service.transpiler_service:Qiskit transpiler service returned a result\n",
      "INFO:qiskit_transpiler_service.transpiler_service:Requesting transpile to the service\n"
     ]
    },
    {
     "name": "stdout",
     "output_type": "stream",
     "text": [
      "\u001b[94mWith AI total CNOTs: 58\u001b[0m\n"
     ]
    },
    {
     "name": "stderr",
     "output_type": "stream",
     "text": [
      "INFO:qiskit_transpiler_service.transpiler_service:Qiskit transpiler service returned a result\n"
     ]
    },
    {
     "name": "stdout",
     "output_type": "stream",
     "text": [
      "\u001b[94mWithout AI total CNOTs: 190\u001b[0m\n",
      "\u001b[92msleeping for 1s\u001b[0m\n",
      "\u001b[92m--------------------\u001b[0m\n",
      "\u001b[92mtesting 50 qubits\u001b[0m\n"
     ]
    },
    {
     "name": "stderr",
     "output_type": "stream",
     "text": [
      "INFO:qiskit_transpiler_service.transpiler_service:Requesting transpile to the service\n"
     ]
    },
    {
     "name": "stdout",
     "output_type": "stream",
     "text": [
      "\u001b[94mLocal total CNOTs: 278\u001b[0m\n"
     ]
    },
    {
     "name": "stderr",
     "output_type": "stream",
     "text": [
      "INFO:qiskit_transpiler_service.transpiler_service:Qiskit transpiler service returned a result\n",
      "INFO:qiskit_transpiler_service.transpiler_service:Requesting transpile to the service\n"
     ]
    },
    {
     "name": "stdout",
     "output_type": "stream",
     "text": [
      "\u001b[94mWith AI total CNOTs: 56\u001b[0m\n"
     ]
    },
    {
     "name": "stderr",
     "output_type": "stream",
     "text": [
      "INFO:qiskit_transpiler_service.transpiler_service:Qiskit transpiler service returned a result\n"
     ]
    },
    {
     "name": "stdout",
     "output_type": "stream",
     "text": [
      "\u001b[94mWithout AI total CNOTs: 263\u001b[0m\n",
      "\u001b[92msleeping for 1s\u001b[0m\n",
      "\u001b[92m--------------------\u001b[0m\n",
      "\u001b[92mtesting 51 qubits\u001b[0m\n"
     ]
    },
    {
     "name": "stderr",
     "output_type": "stream",
     "text": [
      "INFO:qiskit_transpiler_service.transpiler_service:Requesting transpile to the service\n"
     ]
    },
    {
     "name": "stdout",
     "output_type": "stream",
     "text": [
      "\u001b[94mLocal total CNOTs: 267\u001b[0m\n"
     ]
    },
    {
     "name": "stderr",
     "output_type": "stream",
     "text": [
      "INFO:qiskit_transpiler_service.transpiler_service:Qiskit transpiler service returned a result\n",
      "INFO:qiskit_transpiler_service.transpiler_service:Requesting transpile to the service\n"
     ]
    },
    {
     "name": "stdout",
     "output_type": "stream",
     "text": [
      "\u001b[94mWith AI total CNOTs: 54\u001b[0m\n"
     ]
    },
    {
     "name": "stderr",
     "output_type": "stream",
     "text": [
      "INFO:qiskit_transpiler_service.transpiler_service:Qiskit transpiler service returned a result\n"
     ]
    },
    {
     "name": "stdout",
     "output_type": "stream",
     "text": [
      "\u001b[94mWithout AI total CNOTs: 288\u001b[0m\n",
      "\u001b[92msleeping for 1s\u001b[0m\n",
      "\u001b[92m--------------------\u001b[0m\n",
      "\u001b[92mtesting 52 qubits\u001b[0m\n"
     ]
    },
    {
     "name": "stderr",
     "output_type": "stream",
     "text": [
      "INFO:qiskit_transpiler_service.transpiler_service:Requesting transpile to the service\n"
     ]
    },
    {
     "name": "stdout",
     "output_type": "stream",
     "text": [
      "\u001b[94mLocal total CNOTs: 52\u001b[0m\n"
     ]
    },
    {
     "name": "stderr",
     "output_type": "stream",
     "text": [
      "INFO:qiskit_transpiler_service.transpiler_service:Qiskit transpiler service returned a result\n",
      "INFO:qiskit_transpiler_service.transpiler_service:Requesting transpile to the service\n"
     ]
    },
    {
     "name": "stdout",
     "output_type": "stream",
     "text": [
      "\u001b[94mWith AI total CNOTs: 52\u001b[0m\n"
     ]
    },
    {
     "name": "stderr",
     "output_type": "stream",
     "text": [
      "INFO:qiskit_transpiler_service.transpiler_service:Qiskit transpiler service returned a result\n"
     ]
    },
    {
     "name": "stdout",
     "output_type": "stream",
     "text": [
      "\u001b[94mWithout AI total CNOTs: 52\u001b[0m\n",
      "\u001b[92msleeping for 1s\u001b[0m\n",
      "\u001b[92m--------------------\u001b[0m\n",
      "\u001b[92mtesting 53 qubits\u001b[0m\n"
     ]
    },
    {
     "name": "stderr",
     "output_type": "stream",
     "text": [
      "INFO:qiskit_transpiler_service.transpiler_service:Requesting transpile to the service\n"
     ]
    },
    {
     "name": "stdout",
     "output_type": "stream",
     "text": [
      "\u001b[94mLocal total CNOTs: 311\u001b[0m\n"
     ]
    },
    {
     "name": "stderr",
     "output_type": "stream",
     "text": [
      "INFO:qiskit_transpiler_service.transpiler_service:Qiskit transpiler service returned a result\n",
      "INFO:qiskit_transpiler_service.transpiler_service:Requesting transpile to the service\n"
     ]
    },
    {
     "name": "stdout",
     "output_type": "stream",
     "text": [
      "\u001b[94mWith AI total CNOTs: 56\u001b[0m\n"
     ]
    },
    {
     "name": "stderr",
     "output_type": "stream",
     "text": [
      "INFO:qiskit_transpiler_service.transpiler_service:Qiskit transpiler service returned a result\n"
     ]
    },
    {
     "name": "stdout",
     "output_type": "stream",
     "text": [
      "\u001b[94mWithout AI total CNOTs: 284\u001b[0m\n",
      "\u001b[92msleeping for 1s\u001b[0m\n",
      "\u001b[92m--------------------\u001b[0m\n",
      "\u001b[92mtesting 54 qubits\u001b[0m\n"
     ]
    },
    {
     "name": "stderr",
     "output_type": "stream",
     "text": [
      "INFO:qiskit_transpiler_service.transpiler_service:Requesting transpile to the service\n"
     ]
    },
    {
     "name": "stdout",
     "output_type": "stream",
     "text": [
      "\u001b[94mLocal total CNOTs: 291\u001b[0m\n"
     ]
    },
    {
     "name": "stderr",
     "output_type": "stream",
     "text": [
      "INFO:qiskit_transpiler_service.transpiler_service:Qiskit transpiler service returned a result\n",
      "INFO:qiskit_transpiler_service.transpiler_service:Requesting transpile to the service\n"
     ]
    },
    {
     "name": "stdout",
     "output_type": "stream",
     "text": [
      "\u001b[94mWith AI total CNOTs: 60\u001b[0m\n"
     ]
    },
    {
     "name": "stderr",
     "output_type": "stream",
     "text": [
      "INFO:qiskit_transpiler_service.transpiler_service:Qiskit transpiler service returned a result\n"
     ]
    },
    {
     "name": "stdout",
     "output_type": "stream",
     "text": [
      "\u001b[94mWithout AI total CNOTs: 264\u001b[0m\n",
      "\u001b[92msleeping for 1s\u001b[0m\n",
      "\u001b[92m--------------------\u001b[0m\n",
      "\u001b[92mtesting 55 qubits\u001b[0m\n"
     ]
    },
    {
     "name": "stderr",
     "output_type": "stream",
     "text": [
      "INFO:qiskit_transpiler_service.transpiler_service:Requesting transpile to the service\n"
     ]
    },
    {
     "name": "stdout",
     "output_type": "stream",
     "text": [
      "\u001b[94mLocal total CNOTs: 307\u001b[0m\n"
     ]
    },
    {
     "name": "stderr",
     "output_type": "stream",
     "text": [
      "INFO:qiskit_transpiler_service.transpiler_service:Qiskit transpiler service returned a result\n",
      "INFO:qiskit_transpiler_service.transpiler_service:Requesting transpile to the service\n"
     ]
    },
    {
     "name": "stdout",
     "output_type": "stream",
     "text": [
      "\u001b[94mWith AI total CNOTs: 58\u001b[0m\n"
     ]
    },
    {
     "name": "stderr",
     "output_type": "stream",
     "text": [
      "INFO:qiskit_transpiler_service.transpiler_service:Qiskit transpiler service returned a result\n"
     ]
    },
    {
     "name": "stdout",
     "output_type": "stream",
     "text": [
      "\u001b[94mWithout AI total CNOTs: 277\u001b[0m\n",
      "\u001b[92msleeping for 1s\u001b[0m\n",
      "\u001b[92m--------------------\u001b[0m\n",
      "\u001b[92mtesting 56 qubits\u001b[0m\n"
     ]
    },
    {
     "name": "stderr",
     "output_type": "stream",
     "text": [
      "INFO:qiskit_transpiler_service.transpiler_service:Requesting transpile to the service\n"
     ]
    },
    {
     "name": "stdout",
     "output_type": "stream",
     "text": [
      "\u001b[94mLocal total CNOTs: 56\u001b[0m\n"
     ]
    },
    {
     "name": "stderr",
     "output_type": "stream",
     "text": [
      "INFO:qiskit_transpiler_service.transpiler_service:Qiskit transpiler service returned a result\n",
      "INFO:qiskit_transpiler_service.transpiler_service:Requesting transpile to the service\n"
     ]
    },
    {
     "name": "stdout",
     "output_type": "stream",
     "text": [
      "\u001b[94mWith AI total CNOTs: 56\u001b[0m\n"
     ]
    },
    {
     "name": "stderr",
     "output_type": "stream",
     "text": [
      "INFO:qiskit_transpiler_service.transpiler_service:Qiskit transpiler service returned a result\n"
     ]
    },
    {
     "name": "stdout",
     "output_type": "stream",
     "text": [
      "\u001b[94mWithout AI total CNOTs: 56\u001b[0m\n",
      "\u001b[92msleeping for 1s\u001b[0m\n",
      "\u001b[92m--------------------\u001b[0m\n",
      "\u001b[92mtesting 57 qubits\u001b[0m\n"
     ]
    },
    {
     "name": "stderr",
     "output_type": "stream",
     "text": [
      "INFO:qiskit_transpiler_service.transpiler_service:Requesting transpile to the service\n"
     ]
    },
    {
     "name": "stdout",
     "output_type": "stream",
     "text": [
      "\u001b[94mLocal total CNOTs: 327\u001b[0m\n"
     ]
    },
    {
     "name": "stderr",
     "output_type": "stream",
     "text": [
      "INFO:qiskit_transpiler_service.transpiler_service:Qiskit transpiler service returned a result\n",
      "INFO:qiskit_transpiler_service.transpiler_service:Requesting transpile to the service\n"
     ]
    },
    {
     "name": "stdout",
     "output_type": "stream",
     "text": [
      "\u001b[94mWith AI total CNOTs: 60\u001b[0m\n"
     ]
    },
    {
     "name": "stderr",
     "output_type": "stream",
     "text": [
      "INFO:qiskit_transpiler_service.transpiler_service:Qiskit transpiler service returned a result\n"
     ]
    },
    {
     "name": "stdout",
     "output_type": "stream",
     "text": [
      "\u001b[94mWithout AI total CNOTs: 330\u001b[0m\n",
      "\u001b[92msleeping for 1s\u001b[0m\n",
      "\u001b[92m--------------------\u001b[0m\n",
      "\u001b[92mtesting 58 qubits\u001b[0m\n"
     ]
    },
    {
     "name": "stderr",
     "output_type": "stream",
     "text": [
      "INFO:qiskit_transpiler_service.transpiler_service:Requesting transpile to the service\n"
     ]
    },
    {
     "name": "stdout",
     "output_type": "stream",
     "text": [
      "\u001b[94mLocal total CNOTs: 328\u001b[0m\n"
     ]
    },
    {
     "name": "stderr",
     "output_type": "stream",
     "text": [
      "INFO:qiskit_transpiler_service.transpiler_service:Qiskit transpiler service returned a result\n",
      "INFO:qiskit_transpiler_service.transpiler_service:Requesting transpile to the service\n"
     ]
    },
    {
     "name": "stdout",
     "output_type": "stream",
     "text": [
      "\u001b[94mWith AI total CNOTs: 64\u001b[0m\n"
     ]
    },
    {
     "name": "stderr",
     "output_type": "stream",
     "text": [
      "INFO:qiskit_transpiler_service.transpiler_service:Qiskit transpiler service returned a result\n"
     ]
    },
    {
     "name": "stdout",
     "output_type": "stream",
     "text": [
      "\u001b[94mWithout AI total CNOTs: 322\u001b[0m\n",
      "\u001b[92msleeping for 1s\u001b[0m\n",
      "\u001b[92m--------------------\u001b[0m\n",
      "\u001b[92mtesting 59 qubits\u001b[0m\n"
     ]
    },
    {
     "name": "stderr",
     "output_type": "stream",
     "text": [
      "INFO:qiskit_transpiler_service.transpiler_service:Requesting transpile to the service\n"
     ]
    },
    {
     "name": "stdout",
     "output_type": "stream",
     "text": [
      "\u001b[94mLocal total CNOTs: 335\u001b[0m\n"
     ]
    },
    {
     "name": "stderr",
     "output_type": "stream",
     "text": [
      "INFO:qiskit_transpiler_service.transpiler_service:Qiskit transpiler service returned a result\n",
      "INFO:qiskit_transpiler_service.transpiler_service:Requesting transpile to the service\n"
     ]
    },
    {
     "name": "stdout",
     "output_type": "stream",
     "text": [
      "\u001b[94mWith AI total CNOTs: 62\u001b[0m\n"
     ]
    },
    {
     "name": "stderr",
     "output_type": "stream",
     "text": [
      "INFO:qiskit_transpiler_service.transpiler_service:Qiskit transpiler service returned a result\n"
     ]
    },
    {
     "name": "stdout",
     "output_type": "stream",
     "text": [
      "\u001b[94mWithout AI total CNOTs: 335\u001b[0m\n",
      "\u001b[92msleeping for 1s\u001b[0m\n",
      "\u001b[92m--------------------\u001b[0m\n",
      "\u001b[92mtesting 60 qubits\u001b[0m\n"
     ]
    },
    {
     "name": "stderr",
     "output_type": "stream",
     "text": [
      "INFO:qiskit_transpiler_service.transpiler_service:Requesting transpile to the service\n"
     ]
    },
    {
     "name": "stdout",
     "output_type": "stream",
     "text": [
      "\u001b[94mLocal total CNOTs: 60\u001b[0m\n"
     ]
    },
    {
     "name": "stderr",
     "output_type": "stream",
     "text": [
      "INFO:qiskit_transpiler_service.transpiler_service:Qiskit transpiler service returned a result\n",
      "INFO:qiskit_transpiler_service.transpiler_service:Requesting transpile to the service\n"
     ]
    },
    {
     "name": "stdout",
     "output_type": "stream",
     "text": [
      "\u001b[94mWith AI total CNOTs: 60\u001b[0m\n"
     ]
    },
    {
     "name": "stderr",
     "output_type": "stream",
     "text": [
      "INFO:qiskit_transpiler_service.transpiler_service:Qiskit transpiler service returned a result\n"
     ]
    },
    {
     "name": "stdout",
     "output_type": "stream",
     "text": [
      "\u001b[94mWithout AI total CNOTs: 60\u001b[0m\n",
      "\u001b[92msleeping for 1s\u001b[0m\n",
      "\u001b[92m--------------------\u001b[0m\n",
      "\u001b[92mtesting 61 qubits\u001b[0m\n"
     ]
    },
    {
     "name": "stderr",
     "output_type": "stream",
     "text": [
      "INFO:qiskit_transpiler_service.transpiler_service:Requesting transpile to the service\n"
     ]
    },
    {
     "name": "stdout",
     "output_type": "stream",
     "text": [
      "\u001b[94mLocal total CNOTs: 274\u001b[0m\n"
     ]
    },
    {
     "name": "stderr",
     "output_type": "stream",
     "text": [
      "INFO:qiskit_transpiler_service.transpiler_service:Qiskit transpiler service returned a result\n",
      "INFO:qiskit_transpiler_service.transpiler_service:Requesting transpile to the service\n"
     ]
    },
    {
     "name": "stdout",
     "output_type": "stream",
     "text": [
      "\u001b[94mWith AI total CNOTs: 64\u001b[0m\n"
     ]
    },
    {
     "name": "stderr",
     "output_type": "stream",
     "text": [
      "INFO:qiskit_transpiler_service.transpiler_service:Qiskit transpiler service returned a result\n"
     ]
    },
    {
     "name": "stdout",
     "output_type": "stream",
     "text": [
      "\u001b[94mWithout AI total CNOTs: 385\u001b[0m\n",
      "\u001b[92msleeping for 1s\u001b[0m\n",
      "\u001b[92m--------------------\u001b[0m\n",
      "\u001b[92mtesting 62 qubits\u001b[0m\n"
     ]
    },
    {
     "name": "stderr",
     "output_type": "stream",
     "text": [
      "INFO:qiskit_transpiler_service.transpiler_service:Requesting transpile to the service\n"
     ]
    },
    {
     "name": "stdout",
     "output_type": "stream",
     "text": [
      "\u001b[94mLocal total CNOTs: 323\u001b[0m\n"
     ]
    },
    {
     "name": "stderr",
     "output_type": "stream",
     "text": [
      "INFO:qiskit_transpiler_service.transpiler_service:Qiskit transpiler service returned a result\n",
      "INFO:qiskit_transpiler_service.transpiler_service:Requesting transpile to the service\n"
     ]
    },
    {
     "name": "stdout",
     "output_type": "stream",
     "text": [
      "\u001b[94mWith AI total CNOTs: 68\u001b[0m\n"
     ]
    },
    {
     "name": "stderr",
     "output_type": "stream",
     "text": [
      "INFO:qiskit_transpiler_service.transpiler_service:Qiskit transpiler service returned a result\n"
     ]
    },
    {
     "name": "stdout",
     "output_type": "stream",
     "text": [
      "\u001b[94mWithout AI total CNOTs: 371\u001b[0m\n",
      "\u001b[92msleeping for 1s\u001b[0m\n",
      "\u001b[92m--------------------\u001b[0m\n",
      "\u001b[92mtesting 63 qubits\u001b[0m\n"
     ]
    },
    {
     "name": "stderr",
     "output_type": "stream",
     "text": [
      "INFO:qiskit_transpiler_service.transpiler_service:Requesting transpile to the service\n"
     ]
    },
    {
     "name": "stdout",
     "output_type": "stream",
     "text": [
      "\u001b[94mLocal total CNOTs: 351\u001b[0m\n"
     ]
    },
    {
     "name": "stderr",
     "output_type": "stream",
     "text": [
      "INFO:qiskit_transpiler_service.transpiler_service:Qiskit transpiler service returned a result\n",
      "INFO:qiskit_transpiler_service.transpiler_service:Requesting transpile to the service\n"
     ]
    },
    {
     "name": "stdout",
     "output_type": "stream",
     "text": [
      "\u001b[94mWith AI total CNOTs: 66\u001b[0m\n"
     ]
    },
    {
     "name": "stderr",
     "output_type": "stream",
     "text": [
      "INFO:qiskit_transpiler_service.transpiler_service:Qiskit transpiler service returned a result\n"
     ]
    },
    {
     "name": "stdout",
     "output_type": "stream",
     "text": [
      "\u001b[94mWithout AI total CNOTs: 396\u001b[0m\n",
      "\u001b[92msleeping for 1s\u001b[0m\n",
      "\u001b[92m--------------------\u001b[0m\n",
      "\u001b[92mtesting 64 qubits\u001b[0m\n"
     ]
    },
    {
     "name": "stderr",
     "output_type": "stream",
     "text": [
      "INFO:qiskit_transpiler_service.transpiler_service:Requesting transpile to the service\n"
     ]
    },
    {
     "name": "stdout",
     "output_type": "stream",
     "text": [
      "\u001b[94mLocal total CNOTs: 64\u001b[0m\n"
     ]
    },
    {
     "name": "stderr",
     "output_type": "stream",
     "text": [
      "INFO:qiskit_transpiler_service.transpiler_service:Qiskit transpiler service returned a result\n",
      "INFO:qiskit_transpiler_service.transpiler_service:Requesting transpile to the service\n"
     ]
    },
    {
     "name": "stdout",
     "output_type": "stream",
     "text": [
      "\u001b[94mWith AI total CNOTs: 64\u001b[0m\n"
     ]
    },
    {
     "name": "stderr",
     "output_type": "stream",
     "text": [
      "INFO:qiskit_transpiler_service.transpiler_service:Qiskit transpiler service returned a result\n"
     ]
    },
    {
     "name": "stdout",
     "output_type": "stream",
     "text": [
      "\u001b[94mWithout AI total CNOTs: 64\u001b[0m\n",
      "\u001b[92msleeping for 1s\u001b[0m\n",
      "\u001b[92m--------------------\u001b[0m\n",
      "\u001b[92mtesting 65 qubits\u001b[0m\n"
     ]
    },
    {
     "name": "stderr",
     "output_type": "stream",
     "text": [
      "INFO:qiskit_transpiler_service.transpiler_service:Requesting transpile to the service\n"
     ]
    },
    {
     "name": "stdout",
     "output_type": "stream",
     "text": [
      "\u001b[94mLocal total CNOTs: 383\u001b[0m\n"
     ]
    },
    {
     "name": "stderr",
     "output_type": "stream",
     "text": [
      "INFO:qiskit_transpiler_service.transpiler_service:Qiskit transpiler service returned a result\n",
      "INFO:qiskit_transpiler_service.transpiler_service:Requesting transpile to the service\n"
     ]
    },
    {
     "name": "stdout",
     "output_type": "stream",
     "text": [
      "\u001b[94mWith AI total CNOTs: 68\u001b[0m\n"
     ]
    },
    {
     "name": "stderr",
     "output_type": "stream",
     "text": [
      "INFO:qiskit_transpiler_service.transpiler_service:Qiskit transpiler service returned a result\n"
     ]
    },
    {
     "name": "stdout",
     "output_type": "stream",
     "text": [
      "\u001b[94mWithout AI total CNOTs: 368\u001b[0m\n",
      "\u001b[92msleeping for 1s\u001b[0m\n",
      "\u001b[92m--------------------\u001b[0m\n",
      "\u001b[92mtesting 66 qubits\u001b[0m\n"
     ]
    },
    {
     "name": "stderr",
     "output_type": "stream",
     "text": [
      "INFO:qiskit_transpiler_service.transpiler_service:Requesting transpile to the service\n"
     ]
    },
    {
     "name": "stdout",
     "output_type": "stream",
     "text": [
      "\u001b[94mLocal total CNOTs: 378\u001b[0m\n"
     ]
    },
    {
     "name": "stderr",
     "output_type": "stream",
     "text": [
      "INFO:qiskit_transpiler_service.transpiler_service:Qiskit transpiler service returned a result\n",
      "INFO:qiskit_transpiler_service.transpiler_service:Requesting transpile to the service\n"
     ]
    },
    {
     "name": "stdout",
     "output_type": "stream",
     "text": [
      "\u001b[94mWith AI total CNOTs: 72\u001b[0m\n"
     ]
    },
    {
     "name": "stderr",
     "output_type": "stream",
     "text": [
      "INFO:qiskit_transpiler_service.transpiler_service:Qiskit transpiler service returned a result\n"
     ]
    },
    {
     "name": "stdout",
     "output_type": "stream",
     "text": [
      "\u001b[94mWithout AI total CNOTs: 339\u001b[0m\n",
      "\u001b[92msleeping for 1s\u001b[0m\n",
      "\u001b[92m--------------------\u001b[0m\n",
      "\u001b[92mtesting 67 qubits\u001b[0m\n"
     ]
    },
    {
     "name": "stderr",
     "output_type": "stream",
     "text": [
      "INFO:qiskit_transpiler_service.transpiler_service:Requesting transpile to the service\n"
     ]
    },
    {
     "name": "stdout",
     "output_type": "stream",
     "text": [
      "\u001b[94mLocal total CNOTs: 352\u001b[0m\n"
     ]
    },
    {
     "name": "stderr",
     "output_type": "stream",
     "text": [
      "INFO:qiskit_transpiler_service.transpiler_service:Qiskit transpiler service returned a result\n",
      "INFO:qiskit_transpiler_service.transpiler_service:Requesting transpile to the service\n"
     ]
    },
    {
     "name": "stdout",
     "output_type": "stream",
     "text": [
      "\u001b[94mWith AI total CNOTs: 76\u001b[0m\n"
     ]
    },
    {
     "name": "stderr",
     "output_type": "stream",
     "text": [
      "INFO:qiskit_transpiler_service.transpiler_service:Qiskit transpiler service returned a result\n"
     ]
    },
    {
     "name": "stdout",
     "output_type": "stream",
     "text": [
      "\u001b[94mWithout AI total CNOTs: 406\u001b[0m\n",
      "\u001b[92msleeping for 1s\u001b[0m\n",
      "\u001b[92m--------------------\u001b[0m\n",
      "\u001b[92mtesting 68 qubits\u001b[0m\n"
     ]
    },
    {
     "name": "stderr",
     "output_type": "stream",
     "text": [
      "INFO:qiskit_transpiler_service.transpiler_service:Requesting transpile to the service\n"
     ]
    },
    {
     "name": "stdout",
     "output_type": "stream",
     "text": [
      "\u001b[94mLocal total CNOTs: 68\u001b[0m\n"
     ]
    },
    {
     "name": "stderr",
     "output_type": "stream",
     "text": [
      "INFO:qiskit_transpiler_service.transpiler_service:Qiskit transpiler service returned a result\n",
      "INFO:qiskit_transpiler_service.transpiler_service:Requesting transpile to the service\n"
     ]
    },
    {
     "name": "stdout",
     "output_type": "stream",
     "text": [
      "\u001b[94mWith AI total CNOTs: 68\u001b[0m\n"
     ]
    },
    {
     "name": "stderr",
     "output_type": "stream",
     "text": [
      "INFO:qiskit_transpiler_service.transpiler_service:Qiskit transpiler service returned a result\n"
     ]
    },
    {
     "name": "stdout",
     "output_type": "stream",
     "text": [
      "\u001b[94mWithout AI total CNOTs: 68\u001b[0m\n",
      "\u001b[92msleeping for 1s\u001b[0m\n",
      "\u001b[92m--------------------\u001b[0m\n",
      "\u001b[92mtesting 69 qubits\u001b[0m\n"
     ]
    },
    {
     "name": "stderr",
     "output_type": "stream",
     "text": [
      "INFO:qiskit_transpiler_service.transpiler_service:Requesting transpile to the service\n"
     ]
    },
    {
     "name": "stdout",
     "output_type": "stream",
     "text": [
      "\u001b[94mLocal total CNOTs: 390\u001b[0m\n"
     ]
    },
    {
     "name": "stderr",
     "output_type": "stream",
     "text": [
      "INFO:qiskit_transpiler_service.transpiler_service:Qiskit transpiler service returned a result\n",
      "INFO:qiskit_transpiler_service.transpiler_service:Requesting transpile to the service\n"
     ]
    },
    {
     "name": "stdout",
     "output_type": "stream",
     "text": [
      "\u001b[94mWith AI total CNOTs: 78\u001b[0m\n"
     ]
    },
    {
     "name": "stderr",
     "output_type": "stream",
     "text": [
      "INFO:qiskit_transpiler_service.transpiler_service:Qiskit transpiler service returned a result\n"
     ]
    },
    {
     "name": "stdout",
     "output_type": "stream",
     "text": [
      "\u001b[94mWithout AI total CNOTs: 417\u001b[0m\n",
      "\u001b[92msleeping for 1s\u001b[0m\n",
      "\u001b[92m--------------------\u001b[0m\n",
      "\u001b[92mtesting 70 qubits\u001b[0m\n"
     ]
    },
    {
     "name": "stderr",
     "output_type": "stream",
     "text": [
      "INFO:qiskit_transpiler_service.transpiler_service:Requesting transpile to the service\n"
     ]
    },
    {
     "name": "stdout",
     "output_type": "stream",
     "text": [
      "\u001b[94mLocal total CNOTs: 388\u001b[0m\n"
     ]
    },
    {
     "name": "stderr",
     "output_type": "stream",
     "text": [
      "INFO:qiskit_transpiler_service.transpiler_service:Qiskit transpiler service returned a result\n",
      "INFO:qiskit_transpiler_service.transpiler_service:Requesting transpile to the service\n"
     ]
    },
    {
     "name": "stdout",
     "output_type": "stream",
     "text": [
      "\u001b[94mWith AI total CNOTs: 76\u001b[0m\n"
     ]
    },
    {
     "name": "stderr",
     "output_type": "stream",
     "text": [
      "INFO:qiskit_transpiler_service.transpiler_service:Qiskit transpiler service returned a result\n"
     ]
    },
    {
     "name": "stdout",
     "output_type": "stream",
     "text": [
      "\u001b[94mWithout AI total CNOTs: 409\u001b[0m\n",
      "\u001b[92msleeping for 1s\u001b[0m\n",
      "\u001b[92m--------------------\u001b[0m\n",
      "\u001b[92mtesting 71 qubits\u001b[0m\n"
     ]
    },
    {
     "name": "stderr",
     "output_type": "stream",
     "text": [
      "INFO:qiskit_transpiler_service.transpiler_service:Requesting transpile to the service\n"
     ]
    },
    {
     "name": "stdout",
     "output_type": "stream",
     "text": [
      "\u001b[94mLocal total CNOTs: 425\u001b[0m\n"
     ]
    },
    {
     "name": "stderr",
     "output_type": "stream",
     "text": [
      "INFO:qiskit_transpiler_service.transpiler_service:Qiskit transpiler service returned a result\n",
      "INFO:qiskit_transpiler_service.transpiler_service:Requesting transpile to the service\n"
     ]
    },
    {
     "name": "stdout",
     "output_type": "stream",
     "text": [
      "\u001b[94mWith AI total CNOTs: 74\u001b[0m\n"
     ]
    },
    {
     "name": "stderr",
     "output_type": "stream",
     "text": [
      "INFO:qiskit_transpiler_service.transpiler_service:Qiskit transpiler service returned a result\n"
     ]
    },
    {
     "name": "stdout",
     "output_type": "stream",
     "text": [
      "\u001b[94mWithout AI total CNOTs: 410\u001b[0m\n",
      "\u001b[92msleeping for 1s\u001b[0m\n",
      "\u001b[92m--------------------\u001b[0m\n",
      "\u001b[92mtesting 72 qubits\u001b[0m\n"
     ]
    },
    {
     "name": "stderr",
     "output_type": "stream",
     "text": [
      "INFO:qiskit_transpiler_service.transpiler_service:Requesting transpile to the service\n"
     ]
    },
    {
     "name": "stdout",
     "output_type": "stream",
     "text": [
      "\u001b[94mLocal total CNOTs: 72\u001b[0m\n"
     ]
    },
    {
     "name": "stderr",
     "output_type": "stream",
     "text": [
      "INFO:qiskit_transpiler_service.transpiler_service:Qiskit transpiler service returned a result\n",
      "INFO:qiskit_transpiler_service.transpiler_service:Requesting transpile to the service\n"
     ]
    },
    {
     "name": "stdout",
     "output_type": "stream",
     "text": [
      "\u001b[94mWith AI total CNOTs: 72\u001b[0m\n"
     ]
    },
    {
     "name": "stderr",
     "output_type": "stream",
     "text": [
      "INFO:qiskit_transpiler_service.transpiler_service:Qiskit transpiler service returned a result\n"
     ]
    },
    {
     "name": "stdout",
     "output_type": "stream",
     "text": [
      "\u001b[94mWithout AI total CNOTs: 72\u001b[0m\n",
      "\u001b[92msleeping for 1s\u001b[0m\n",
      "\u001b[92m--------------------\u001b[0m\n",
      "\u001b[92mtesting 73 qubits\u001b[0m\n"
     ]
    },
    {
     "name": "stderr",
     "output_type": "stream",
     "text": [
      "INFO:qiskit_transpiler_service.transpiler_service:Requesting transpile to the service\n"
     ]
    },
    {
     "name": "stdout",
     "output_type": "stream",
     "text": [
      "\u001b[94mLocal total CNOTs: 412\u001b[0m\n"
     ]
    },
    {
     "name": "stderr",
     "output_type": "stream",
     "text": [
      "INFO:qiskit_transpiler_service.transpiler_service:Qiskit transpiler service returned a result\n",
      "INFO:qiskit_transpiler_service.transpiler_service:Requesting transpile to the service\n"
     ]
    },
    {
     "name": "stdout",
     "output_type": "stream",
     "text": [
      "\u001b[94mWith AI total CNOTs: 76\u001b[0m\n"
     ]
    },
    {
     "name": "stderr",
     "output_type": "stream",
     "text": [
      "INFO:qiskit_transpiler_service.transpiler_service:Qiskit transpiler service returned a result\n"
     ]
    },
    {
     "name": "stdout",
     "output_type": "stream",
     "text": [
      "\u001b[94mWithout AI total CNOTs: 451\u001b[0m\n",
      "\u001b[92msleeping for 1s\u001b[0m\n",
      "\u001b[92m--------------------\u001b[0m\n",
      "\u001b[92mtesting 74 qubits\u001b[0m\n"
     ]
    },
    {
     "name": "stderr",
     "output_type": "stream",
     "text": [
      "INFO:qiskit_transpiler_service.transpiler_service:Requesting transpile to the service\n"
     ]
    },
    {
     "name": "stdout",
     "output_type": "stream",
     "text": [
      "\u001b[94mLocal total CNOTs: 383\u001b[0m\n"
     ]
    },
    {
     "name": "stderr",
     "output_type": "stream",
     "text": [
      "INFO:qiskit_transpiler_service.transpiler_service:Qiskit transpiler service returned a result\n",
      "INFO:qiskit_transpiler_service.transpiler_service:Requesting transpile to the service\n"
     ]
    },
    {
     "name": "stdout",
     "output_type": "stream",
     "text": [
      "\u001b[94mWith AI total CNOTs: 80\u001b[0m\n"
     ]
    },
    {
     "name": "stderr",
     "output_type": "stream",
     "text": [
      "INFO:qiskit_transpiler_service.transpiler_service:Qiskit transpiler service returned a result\n"
     ]
    },
    {
     "name": "stdout",
     "output_type": "stream",
     "text": [
      "\u001b[94mWithout AI total CNOTs: 437\u001b[0m\n",
      "\u001b[92msleeping for 1s\u001b[0m\n",
      "\u001b[92m--------------------\u001b[0m\n",
      "\u001b[92mtesting 75 qubits\u001b[0m\n"
     ]
    },
    {
     "name": "stderr",
     "output_type": "stream",
     "text": [
      "INFO:qiskit_transpiler_service.transpiler_service:Requesting transpile to the service\n"
     ]
    },
    {
     "name": "stdout",
     "output_type": "stream",
     "text": [
      "\u001b[94mLocal total CNOTs: 396\u001b[0m\n"
     ]
    },
    {
     "name": "stderr",
     "output_type": "stream",
     "text": [
      "INFO:qiskit_transpiler_service.transpiler_service:Qiskit transpiler service returned a result\n",
      "INFO:qiskit_transpiler_service.transpiler_service:Requesting transpile to the service\n"
     ]
    },
    {
     "name": "stdout",
     "output_type": "stream",
     "text": [
      "\u001b[94mWith AI total CNOTs: 78\u001b[0m\n"
     ]
    },
    {
     "name": "stderr",
     "output_type": "stream",
     "text": [
      "INFO:qiskit_transpiler_service.transpiler_service:Qiskit transpiler service returned a result\n"
     ]
    },
    {
     "name": "stdout",
     "output_type": "stream",
     "text": [
      "\u001b[94mWithout AI total CNOTs: 360\u001b[0m\n",
      "\u001b[92msleeping for 1s\u001b[0m\n",
      "\u001b[92m--------------------\u001b[0m\n",
      "\u001b[92mtesting 76 qubits\u001b[0m\n"
     ]
    },
    {
     "name": "stderr",
     "output_type": "stream",
     "text": [
      "INFO:qiskit_transpiler_service.transpiler_service:Requesting transpile to the service\n"
     ]
    },
    {
     "name": "stdout",
     "output_type": "stream",
     "text": [
      "\u001b[94mLocal total CNOTs: 76\u001b[0m\n"
     ]
    },
    {
     "name": "stderr",
     "output_type": "stream",
     "text": [
      "INFO:qiskit_transpiler_service.transpiler_service:Qiskit transpiler service returned a result\n",
      "INFO:qiskit_transpiler_service.transpiler_service:Requesting transpile to the service\n"
     ]
    },
    {
     "name": "stdout",
     "output_type": "stream",
     "text": [
      "\u001b[94mWith AI total CNOTs: 76\u001b[0m\n"
     ]
    },
    {
     "name": "stderr",
     "output_type": "stream",
     "text": [
      "INFO:qiskit_transpiler_service.transpiler_service:Qiskit transpiler service returned a result\n"
     ]
    },
    {
     "name": "stdout",
     "output_type": "stream",
     "text": [
      "\u001b[94mWithout AI total CNOTs: 76\u001b[0m\n",
      "\u001b[92msleeping for 1s\u001b[0m\n",
      "\u001b[92m--------------------\u001b[0m\n",
      "\u001b[92mtesting 77 qubits\u001b[0m\n"
     ]
    },
    {
     "name": "stderr",
     "output_type": "stream",
     "text": [
      "INFO:qiskit_transpiler_service.transpiler_service:Requesting transpile to the service\n"
     ]
    },
    {
     "name": "stdout",
     "output_type": "stream",
     "text": [
      "\u001b[94mLocal total CNOTs: 527\u001b[0m\n"
     ]
    },
    {
     "name": "stderr",
     "output_type": "stream",
     "text": [
      "INFO:qiskit_transpiler_service.transpiler_service:Qiskit transpiler service returned a result\n",
      "INFO:qiskit_transpiler_service.transpiler_service:Requesting transpile to the service\n"
     ]
    },
    {
     "name": "stdout",
     "output_type": "stream",
     "text": [
      "\u001b[94mWith AI total CNOTs: 80\u001b[0m\n"
     ]
    },
    {
     "name": "stderr",
     "output_type": "stream",
     "text": [
      "INFO:qiskit_transpiler_service.transpiler_service:Qiskit transpiler service returned a result\n"
     ]
    },
    {
     "name": "stdout",
     "output_type": "stream",
     "text": [
      "\u001b[94mWithout AI total CNOTs: 488\u001b[0m\n",
      "\u001b[92msleeping for 1s\u001b[0m\n",
      "\u001b[92m--------------------\u001b[0m\n",
      "\u001b[92mtesting 78 qubits\u001b[0m\n"
     ]
    },
    {
     "name": "stderr",
     "output_type": "stream",
     "text": [
      "INFO:qiskit_transpiler_service.transpiler_service:Requesting transpile to the service\n"
     ]
    },
    {
     "name": "stdout",
     "output_type": "stream",
     "text": [
      "\u001b[94mLocal total CNOTs: 522\u001b[0m\n"
     ]
    },
    {
     "name": "stderr",
     "output_type": "stream",
     "text": [
      "INFO:qiskit_transpiler_service.transpiler_service:Qiskit transpiler service returned a result\n",
      "INFO:qiskit_transpiler_service.transpiler_service:Requesting transpile to the service\n"
     ]
    },
    {
     "name": "stdout",
     "output_type": "stream",
     "text": [
      "\u001b[94mWith AI total CNOTs: 84\u001b[0m\n"
     ]
    },
    {
     "name": "stderr",
     "output_type": "stream",
     "text": [
      "INFO:qiskit_transpiler_service.transpiler_service:Qiskit transpiler service returned a result\n"
     ]
    },
    {
     "name": "stdout",
     "output_type": "stream",
     "text": [
      "\u001b[94mWithout AI total CNOTs: 480\u001b[0m\n",
      "\u001b[92msleeping for 1s\u001b[0m\n",
      "\u001b[92m--------------------\u001b[0m\n",
      "\u001b[92mtesting 79 qubits\u001b[0m\n"
     ]
    },
    {
     "name": "stderr",
     "output_type": "stream",
     "text": [
      "INFO:qiskit_transpiler_service.transpiler_service:Requesting transpile to the service\n"
     ]
    },
    {
     "name": "stdout",
     "output_type": "stream",
     "text": [
      "\u001b[94mLocal total CNOTs: 451\u001b[0m\n"
     ]
    },
    {
     "name": "stderr",
     "output_type": "stream",
     "text": [
      "INFO:qiskit_transpiler_service.transpiler_service:Qiskit transpiler service returned a result\n",
      "INFO:qiskit_transpiler_service.transpiler_service:Requesting transpile to the service\n"
     ]
    },
    {
     "name": "stdout",
     "output_type": "stream",
     "text": [
      "\u001b[94mWith AI total CNOTs: 91\u001b[0m\n"
     ]
    },
    {
     "name": "stderr",
     "output_type": "stream",
     "text": [
      "INFO:qiskit_transpiler_service.transpiler_service:Qiskit transpiler service returned a result\n"
     ]
    },
    {
     "name": "stdout",
     "output_type": "stream",
     "text": [
      "\u001b[94mWithout AI total CNOTs: 457\u001b[0m\n",
      "\u001b[92msleeping for 1s\u001b[0m\n",
      "\u001b[92m--------------------\u001b[0m\n",
      "\u001b[92mtesting 80 qubits\u001b[0m\n"
     ]
    },
    {
     "name": "stderr",
     "output_type": "stream",
     "text": [
      "INFO:qiskit_transpiler_service.transpiler_service:Requesting transpile to the service\n"
     ]
    },
    {
     "name": "stdout",
     "output_type": "stream",
     "text": [
      "\u001b[94mLocal total CNOTs: 80\u001b[0m\n"
     ]
    },
    {
     "name": "stderr",
     "output_type": "stream",
     "text": [
      "INFO:qiskit_transpiler_service.transpiler_service:Qiskit transpiler service returned a result\n",
      "INFO:qiskit_transpiler_service.transpiler_service:Requesting transpile to the service\n"
     ]
    },
    {
     "name": "stdout",
     "output_type": "stream",
     "text": [
      "\u001b[94mWith AI total CNOTs: 80\u001b[0m\n"
     ]
    },
    {
     "name": "stderr",
     "output_type": "stream",
     "text": [
      "INFO:qiskit_transpiler_service.transpiler_service:Qiskit transpiler service returned a result\n"
     ]
    },
    {
     "name": "stdout",
     "output_type": "stream",
     "text": [
      "\u001b[94mWithout AI total CNOTs: 80\u001b[0m\n",
      "\u001b[92msleeping for 1s\u001b[0m\n"
     ]
    }
   ],
   "source": [
    "test_batch(num_qubits, backend_name, local, transpiler_ai, transpiler_no_ai, brisbane_results)"
   ]
  },
  {
   "cell_type": "code",
   "execution_count": 18,
   "id": "f31bb8bd-d252-4e0a-a7ea-8c6548083165",
   "metadata": {},
   "outputs": [
    {
     "name": "stdout",
     "output_type": "stream",
     "text": [
      "\u001b[92msaving data at: 1718030622 - ibm_brisbane - 2.80q.json\u001b[0m\n"
     ]
    }
   ],
   "source": [
    "save_results(backend_name, brisbane_results, num_qubits)"
   ]
  },
  {
   "cell_type": "code",
   "execution_count": 19,
   "id": "52d16a76-50c2-4a70-8b1d-8c130cbe2bc4",
   "metadata": {},
   "outputs": [
    {
     "data": {
      "image/png": "[encoded data removed]",
      "text/plain": [
       "<Figure size 640x480 with 1 Axes>"
      ]
     },
     "metadata": {},
     "output_type": "display_data"
    }
   ],
   "source": [
    "plot_results(brisbane_results, num_qubits, backend_name)"
   ]
  },
  {
   "cell_type": "code",
   "execution_count": null,
   "id": "67e96398-7b1e-406e-a55a-2c34024c3ee5",
   "metadata": {},
   "outputs": [],
   "source": [
    "# plot images side by side\n",
    "# check same number of cnots (pandas)\n",
    "# check the backends topology"
   ]
  }
 ],
 "metadata": {
  "kernelspec": {
   "display_name": "Python 3 (ipykernel)",
   "language": "python",
   "name": "python3"
  },
  "language_info": {
   "codemirror_mode": {
    "name": "ipython",
    "version": 3
   },
   "file_extension": ".py",
   "mimetype": "text/x-python",
   "name": "python",
   "nbconvert_exporter": "python",
   "pygments_lexer": "ipython3",
   "version": "3.10.14"
  }
 },
 "nbformat": 4,
 "nbformat_minor": 5
}
