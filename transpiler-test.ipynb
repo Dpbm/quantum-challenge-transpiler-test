{
 "cells": [
  {
   "cell_type": "code",
   "execution_count": null,
   "id": "1aff5103-c92a-45b0-93bb-f5b034de45c4",
   "metadata": {},
   "outputs": [],
   "source": [
    "from time import sleep, time\n",
    "import os\n",
    "import json\n",
    "from dotenv import load_dotenv\n",
    "import numpy as np\n",
    "import matplotlib.pyplot as plt\n",
    "from qiskit.circuit.library import EfficientSU2\n",
    "from qiskit.transpiler.preset_passmanagers import generate_preset_pass_manager\n",
    "from qiskit_ibm_runtime import QiskitRuntimeService\n",
    "from qiskit_transpiler_service.transpiler_service import TranspilerService"
   ]
  },
  {
   "cell_type": "code",
   "execution_count": null,
   "id": "42719a33-12b1-49cd-b2ad-1cc0c7fdafdd",
   "metadata": {},
   "outputs": [],
   "source": [
    "load_dotenv()\n",
    "\n",
    "QiskitRuntimeService.save_account(\n",
    "    channel=\"ibm_quantum\",\n",
    "    token=os.getenv(\"IBM_TOKEN\"),\n",
    "    set_as_default=True,\n",
    "    overwrite=True,\n",
    ")\n",
    "\n",
    "service = QiskitRuntimeService()"
   ]
  },
  {
   "cell_type": "code",
   "execution_count": null,
   "id": "be2fccf6-252e-4f0e-8607-20c7aa18d669",
   "metadata": {},
   "outputs": [],
   "source": [
    "class Colors:\n",
    "    GREEN = '\\033[92m'\n",
    "    BLUE = '\\033[94m'\n",
    "    ENDC = '\\033[0m'"
   ]
  },
  {
   "cell_type": "code",
   "execution_count": null,
   "id": "64dd32bf-c1da-4bfd-922b-3edd60e2bc7b",
   "metadata": {},
   "outputs": [],
   "source": [
    "def test(num_qubits:int, local, with_ai, without_ai, results_callback:dict):\n",
    "    qc = EfficientSU2(num_qubits, entanglement=\"circular\", reps=1).decompose()\n",
    "\n",
    "    local_result = local.run(qc)\n",
    "    local_cnots = local_result.num_nonlocal_gates()\n",
    "    print(f\"{Colors.BLUE}Local total CNOTs: {local_cnots}{Colors.ENDC}\")\n",
    "\n",
    "    with_ai_result = with_ai.run(qc)\n",
    "    with_ai_cnots = with_ai_result.num_nonlocal_gates()\n",
    "    print(f\"{Colors.BLUE}With AI total CNOTs: {with_ai_cnots}{Colors.ENDC}\")\n",
    "\n",
    "    without_ai_result = without_ai.run(qc)\n",
    "    without_ai_cnots = without_ai_result.num_nonlocal_gates()\n",
    "    print(f\"{Colors.BLUE}Without AI total CNOTs: {without_ai_cnots}{Colors.ENDC}\")\n",
    "\n",
    "    results_callback['cnots_local'].append(local_cnots)\n",
    "    results_callback['cnots_ai'].append(with_ai_cnots)\n",
    "    results_callback['cnots_no_ai'].append(without_ai_cnots)"
   ]
  },
  {
   "cell_type": "code",
   "execution_count": null,
   "id": "13b3d23d-d4ad-4765-9a95-869ac47ec46a",
   "metadata": {},
   "outputs": [],
   "source": [
    "def test_batch(num_qubits:list[int], backend_name:str, local, with_ai, without_ai, results_callback:dict):\n",
    "    print(f'{Colors.GREEN}Test using: {backend_name} backend{Colors.ENDC}')\n",
    "    print(f'{Colors.GREEN}qubits: {num_qubits}{Colors.ENDC}')\n",
    "    \n",
    "    for nq in num_qubits:\n",
    "        print(f'{Colors.GREEN}--------------------{Colors.ENDC}')\n",
    "        print(f'{Colors.GREEN}testing {nq} qubits{Colors.ENDC}')\n",
    "        test(nq, local, with_ai, without_ai, results_callback)\n",
    "\n",
    "        print(f'{Colors.GREEN}sleeping for 1s{Colors.ENDC}')\n",
    "        sleep(1)"
   ]
  },
  {
   "cell_type": "code",
   "execution_count": null,
   "id": "842abb18-7a83-4bbe-aca9-d951c5b976fd",
   "metadata": {},
   "outputs": [],
   "source": [
    "def get_transpilers(backend):\n",
    "    backend_name = backend.name\n",
    "    \n",
    "    local = generate_preset_pass_manager(backend=backend, optimization_level=3)\n",
    "    transpiler_ai = TranspilerService(optimization_level=3, ai=\"true\", backend_name=backend_name)\n",
    "    transpiler_no_ai = TranspilerService(optimization_level=3, ai=\"false\", backend_name=backend_name)\n",
    "\n",
    "    return local, transpiler_ai, transpiler_no_ai"
   ]
  },
  {
   "cell_type": "code",
   "execution_count": null,
   "id": "e89bc0c7-f30e-4057-91f8-b93fdce49ed0",
   "metadata": {},
   "outputs": [],
   "source": [
    "def save_results(backend_name, results, num_qubits):\n",
    "    filename = f\"{int(time())} - {backend_name} - {num_qubits[0]}.{num_qubits[-1]}q.json\"\n",
    "    print(f'{Colors.GREEN}saving data at: {filename}{Colors.ENDC}')\n",
    "    \n",
    "    results_copy = results.copy()\n",
    "    results_copy['backend'] = backend_name\n",
    "    results_copy['num_qubits'] = num_qubits\n",
    "    \n",
    "    \n",
    "    with open(filename, 'w', encoding='utf-8') as file:\n",
    "        json.dump(results_copy, file, ensure_ascii=False, indent=4)"
   ]
  },
  {
   "cell_type": "code",
   "execution_count": null,
   "id": "556aaec4-1619-4405-b6ad-2e10943ad208",
   "metadata": {},
   "outputs": [],
   "source": [
    "def plot_results(results, num_qubits, backend_name):\n",
    "    plt.title(f'{num_qubits[0]} to {num_qubits[-1]} qubits - {backend_name} backend')\n",
    "\n",
    "    plt.plot(num_qubits, results['cnots_ai'])\n",
    "    plt.plot(num_qubits, results['cnots_no_ai'])\n",
    "    plt.plot(num_qubits, results['cnots_local'])\n",
    "    \n",
    "    plt.xlabel(\"Number of qubits\")\n",
    "    plt.ylabel(\"CNOT count\")\n",
    "    plt.legend([\"AI\", \"without AI\", \"Local\"])\n",
    "    \n",
    "    plt.savefig(f'{backend_name}_{num_qubits[0]}_to_{num_qubits[-1]}_qubits_plot.png')\n",
    "    \n",
    "    plt.show()"
   ]
  },
  {
   "cell_type": "code",
   "execution_count": null,
   "id": "c1014aa8-851e-459f-9307-4b855c42fc1a",
   "metadata": {},
   "outputs": [],
   "source": [
    "backend_name = \"ibm_sherbrooke\"\n",
    "backend = service.backend(backend_name)\n",
    "local, transpiler_ai, transpiler_no_ai = get_transpilers(backend)\n",
    "num_qubits = list(range(2, 81))\n",
    "results = {\n",
    "    'cnots_local': [],\n",
    "    'cnots_ai': [],\n",
    "    'cnots_no_ai': []\n",
    "}"
   ]
  },
  {
   "cell_type": "code",
   "execution_count": null,
   "id": "75967b06-ccab-4109-a5d1-5b860e1ba4e7",
   "metadata": {},
   "outputs": [],
   "source": [
    "test_batch(num_qubits, backend_name, local, transpiler_ai, transpiler_no_ai, results)"
   ]
  },
  {
   "cell_type": "code",
   "execution_count": null,
   "id": "a013965b-a90e-462e-901a-79030d22184c",
   "metadata": {},
   "outputs": [],
   "source": [
    "save_results(backend_name, results, num_qubits)"
   ]
  },
  {
   "cell_type": "code",
   "execution_count": null,
   "id": "1debf788-9ef5-42ff-accc-07112f52e587",
   "metadata": {},
   "outputs": [],
   "source": [
    "plot_results(results, num_qubits, backend_name)"
   ]
  }
 ],
 "metadata": {
  "kernelspec": {
   "display_name": "Python 3 (ipykernel)",
   "language": "python",
   "name": "python3"
  },
  "language_info": {
   "codemirror_mode": {
    "name": "ipython",
    "version": 3
   },
   "file_extension": ".py",
   "mimetype": "text/x-python",
   "name": "python",
   "nbconvert_exporter": "python",
   "pygments_lexer": "ipython3",
   "version": "3.10.14"
  }
 },
 "nbformat": 4,
 "nbformat_minor": 5
}
